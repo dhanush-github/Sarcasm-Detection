{
  "nbformat": 4,
  "nbformat_minor": 0,
  "metadata": {
    "colab": {
      "provenance": []
    },
    "kernelspec": {
      "name": "python3",
      "display_name": "Python 3"
    },
    "language_info": {
      "name": "python"
    }
  },
  "cells": [
    {
      "cell_type": "markdown",
      "source": [
        "### Text Pre-Processing"
      ],
      "metadata": {
        "id": "s-sB115_jV8m"
      }
    },
    {
      "cell_type": "code",
      "execution_count": 1,
      "metadata": {
        "id": "jLVfO9fli9Mq"
      },
      "outputs": [],
      "source": [
        "from tensorflow.keras.preprocessing.text import Tokenizer\n",
        "from tensorflow.keras.preprocessing.sequence import pad_sequences"
      ]
    },
    {
      "cell_type": "code",
      "source": [
        "sentences = [\n",
        "    'I Love my dog',\n",
        "    'I love my cat',\n",
        "    'You love my dog',\n",
        "    \"Google Launches GEMINI\",\n",
        "    \"How was your day\",\n",
        "    \"Its rainig heavily in chennai\",\n",
        "    \"IPL Trading is going on\",\n",
        "    \"Indian Cricket team leaves to South Africa\",\n",
        "    \"Prime Minister Narendra Modi inaugurates Surat Diamond Bourse, World's largest office complex in Gujarat\",\n",
        "    \"Kerala reports new COVID-19 variant JN.1 case that’s spreading in China, US: Health Ministry keeps vigil in states\",\n",
        "    \"Honda Elevate has recorded 20,000 unit sales milestone in just 100 days since its market launch; powered by a 1.5L VTEC petrol engine\"\n",
        "    \"This is an era of LLM's\"\n",
        "]"
      ],
      "metadata": {
        "id": "9kP1VM07jdF8"
      },
      "execution_count": 2,
      "outputs": []
    },
    {
      "cell_type": "code",
      "source": [
        "\n",
        "tokenizer = Tokenizer(num_words=100,oov_token=\"<OOV>\")\n",
        "tokenizer.fit_on_texts(sentences)\n",
        "word_index = tokenizer.word_index"
      ],
      "metadata": {
        "id": "Q77g1kKqjsp-"
      },
      "execution_count": 3,
      "outputs": []
    },
    {
      "cell_type": "code",
      "source": [
        "sequences = tokenizer.texts_to_sequences(sentences)"
      ],
      "metadata": {
        "id": "_nKZC3v5n5CX"
      },
      "execution_count": 4,
      "outputs": []
    },
    {
      "cell_type": "code",
      "source": [
        "padded = pad_sequences(sequences)\n",
        "print(word_index)"
      ],
      "metadata": {
        "colab": {
          "base_uri": "https://localhost:8080/"
        },
        "id": "7wNojyfjj5_Y",
        "outputId": "3e3bf12e-3d06-4532-ff6c-0d17aad74201"
      },
      "execution_count": 5,
      "outputs": [
        {
          "output_type": "stream",
          "name": "stdout",
          "text": [
            "{'<OOV>': 1, 'in': 2, 'love': 3, 'my': 4, 'i': 5, 'dog': 6, 'its': 7, 'is': 8, '1': 9, 'cat': 10, 'you': 11, 'google': 12, 'launches': 13, 'gemini': 14, 'how': 15, 'was': 16, 'your': 17, 'day': 18, 'rainig': 19, 'heavily': 20, 'chennai': 21, 'ipl': 22, 'trading': 23, 'going': 24, 'on': 25, 'indian': 26, 'cricket': 27, 'team': 28, 'leaves': 29, 'to': 30, 'south': 31, 'africa': 32, 'prime': 33, 'minister': 34, 'narendra': 35, 'modi': 36, 'inaugurates': 37, 'surat': 38, 'diamond': 39, 'bourse': 40, \"world's\": 41, 'largest': 42, 'office': 43, 'complex': 44, 'gujarat': 45, 'kerala': 46, 'reports': 47, 'new': 48, 'covid': 49, '19': 50, 'variant': 51, 'jn': 52, 'case': 53, 'that’s': 54, 'spreading': 55, 'china': 56, 'us': 57, 'health': 58, 'ministry': 59, 'keeps': 60, 'vigil': 61, 'states': 62, 'honda': 63, 'elevate': 64, 'has': 65, 'recorded': 66, '20': 67, '000': 68, 'unit': 69, 'sales': 70, 'milestone': 71, 'just': 72, '100': 73, 'days': 74, 'since': 75, 'market': 76, 'launch': 77, 'powered': 78, 'by': 79, 'a': 80, '5l': 81, 'vtec': 82, 'petrol': 83, 'enginethis': 84, 'an': 85, 'era': 86, 'of': 87, \"llm's\": 88}\n"
          ]
        }
      ]
    },
    {
      "cell_type": "code",
      "source": [
        "print(padded)"
      ],
      "metadata": {
        "colab": {
          "base_uri": "https://localhost:8080/"
        },
        "id": "3xik1GHhj8Rw",
        "outputId": "5407076f-ae64-4d5e-c06f-e31b1f388323"
      },
      "execution_count": 6,
      "outputs": [
        {
          "output_type": "stream",
          "name": "stdout",
          "text": [
            "[[ 0  0  0  0  0  0  0  0  0  0  0  0  0  0  0  0  0  0  0  0  0  0  0  0\n",
            "   0  0  5  3  4  6]\n",
            " [ 0  0  0  0  0  0  0  0  0  0  0  0  0  0  0  0  0  0  0  0  0  0  0  0\n",
            "   0  0  5  3  4 10]\n",
            " [ 0  0  0  0  0  0  0  0  0  0  0  0  0  0  0  0  0  0  0  0  0  0  0  0\n",
            "   0  0 11  3  4  6]\n",
            " [ 0  0  0  0  0  0  0  0  0  0  0  0  0  0  0  0  0  0  0  0  0  0  0  0\n",
            "   0  0  0 12 13 14]\n",
            " [ 0  0  0  0  0  0  0  0  0  0  0  0  0  0  0  0  0  0  0  0  0  0  0  0\n",
            "   0  0 15 16 17 18]\n",
            " [ 0  0  0  0  0  0  0  0  0  0  0  0  0  0  0  0  0  0  0  0  0  0  0  0\n",
            "   0  7 19 20  2 21]\n",
            " [ 0  0  0  0  0  0  0  0  0  0  0  0  0  0  0  0  0  0  0  0  0  0  0  0\n",
            "   0 22 23  8 24 25]\n",
            " [ 0  0  0  0  0  0  0  0  0  0  0  0  0  0  0  0  0  0  0  0  0  0  0 26\n",
            "  27 28 29 30 31 32]\n",
            " [ 0  0  0  0  0  0  0  0  0  0  0  0  0  0  0  0 33 34 35 36 37 38 39 40\n",
            "  41 42 43 44  2 45]\n",
            " [ 0  0  0  0  0  0  0  0  0  0 46 47 48 49 50 51 52  9 53 54 55  2 56 57\n",
            "  58 59 60 61  2 62]\n",
            " [63 64 65 66 67 68 69 70 71  2 72 73 74 75  7 76 77 78 79 80  9 81 82 83\n",
            "  84  8 85 86 87 88]]\n"
          ]
        }
      ]
    },
    {
      "cell_type": "markdown",
      "source": [
        "Let's try this on Test Data"
      ],
      "metadata": {
        "id": "2LxmH--YqFkC"
      }
    },
    {
      "cell_type": "code",
      "source": [
        "test_data = [\n",
        "    \"I really love my pet\",\n",
        "    \"India makes it to Finals in ODI World cup 2023\",\n",
        "    \"Jeff Bezos says he and Elon Musk are like-minded and loves the idea of them being friend\",\n",
        "    \"what's up guys!!!\"\n",
        "]"
      ],
      "metadata": {
        "id": "Awa_z_ObpLW_"
      },
      "execution_count": 7,
      "outputs": []
    },
    {
      "cell_type": "code",
      "source": [
        "test_seq = tokenizer.texts_to_sequences(test_data)\n",
        "print(\"\\n Padded Test Sequence: \", test_seq)"
      ],
      "metadata": {
        "colab": {
          "base_uri": "https://localhost:8080/"
        },
        "id": "7XHbDkHHqYzp",
        "outputId": "cca8b07e-4dc3-430d-b59b-ed21ce28b7a2"
      },
      "execution_count": 8,
      "outputs": [
        {
          "output_type": "stream",
          "name": "stdout",
          "text": [
            "\n",
            " Padded Test Sequence:  [[5, 1, 3, 4, 1], [1, 1, 1, 30, 1, 2, 1, 1, 1, 1], [1, 1, 1, 1, 1, 1, 1, 1, 1, 1, 1, 1, 1, 1, 87, 1, 1, 1], [1, 1, 1]]\n"
          ]
        }
      ]
    },
    {
      "cell_type": "code",
      "source": [
        "padded_test = pad_sequences(test_seq)\n",
        "print(padded_test)"
      ],
      "metadata": {
        "colab": {
          "base_uri": "https://localhost:8080/"
        },
        "id": "jt7id-Cfqfm2",
        "outputId": "403e00da-9f1d-4833-d407-55dc920cfb80"
      },
      "execution_count": 9,
      "outputs": [
        {
          "output_type": "stream",
          "name": "stdout",
          "text": [
            "[[ 0  0  0  0  0  0  0  0  0  0  0  0  0  5  1  3  4  1]\n",
            " [ 0  0  0  0  0  0  0  0  1  1  1 30  1  2  1  1  1  1]\n",
            " [ 1  1  1  1  1  1  1  1  1  1  1  1  1  1 87  1  1  1]\n",
            " [ 0  0  0  0  0  0  0  0  0  0  0  0  0  0  0  1  1  1]]\n"
          ]
        }
      ]
    },
    {
      "cell_type": "markdown",
      "source": [
        "## **Sarcasm Detection**"
      ],
      "metadata": {
        "id": "F-W7REnoroFW"
      }
    },
    {
      "cell_type": "code",
      "source": [
        "import json\n",
        "import tensorflow as tf"
      ],
      "metadata": {
        "id": "8Dno78Ofq-T5"
      },
      "execution_count": 10,
      "outputs": []
    },
    {
      "cell_type": "code",
      "source": [
        "from tensorflow.keras.preprocessing.text import Tokenizer\n",
        "from tensorflow.keras.preprocessing.sequence import pad_sequences"
      ],
      "metadata": {
        "id": "dpv9vj4UrvzC"
      },
      "execution_count": 11,
      "outputs": []
    },
    {
      "cell_type": "code",
      "source": [
        "vocab_size = 10000\n",
        "max_length = 100\n",
        "oov_tok = \"<OOV>\"\n",
        "trunc_type =\"post\"\n",
        "padding_type = \"post\"\n",
        "\n",
        "embedding_dim = 16\n",
        "training_size = 20000"
      ],
      "metadata": {
        "id": "8z97SkKVr9tf"
      },
      "execution_count": 12,
      "outputs": []
    },
    {
      "cell_type": "markdown",
      "source": [
        "Fetching the Data"
      ],
      "metadata": {
        "id": "HA17hG1f8PVp"
      }
    },
    {
      "cell_type": "code",
      "source": [
        "!wget --no-check-certificate \\\n",
        "    https://storage.googleapis.com/learning-datasets/sarcasm.json \\\n",
        "    -O /tmp/sarcasm.json"
      ],
      "metadata": {
        "id": "OQ31dhvrszFS",
        "colab": {
          "base_uri": "https://localhost:8080/"
        },
        "outputId": "24e22480-b3ac-4492-ce10-87cb6b010fe6"
      },
      "execution_count": 13,
      "outputs": [
        {
          "output_type": "stream",
          "name": "stdout",
          "text": [
            "--2023-12-17 14:31:45--  https://storage.googleapis.com/learning-datasets/sarcasm.json\n",
            "Resolving storage.googleapis.com (storage.googleapis.com)... 108.177.98.207, 74.125.197.207, 74.125.135.207, ...\n",
            "Connecting to storage.googleapis.com (storage.googleapis.com)|108.177.98.207|:443... connected.\n",
            "HTTP request sent, awaiting response... 200 OK\n",
            "Length: 5643545 (5.4M) [application/json]\n",
            "Saving to: ‘/tmp/sarcasm.json’\n",
            "\n",
            "/tmp/sarcasm.json   100%[===================>]   5.38M  25.7MB/s    in 0.2s    \n",
            "\n",
            "2023-12-17 14:31:46 (25.7 MB/s) - ‘/tmp/sarcasm.json’ saved [5643545/5643545]\n",
            "\n"
          ]
        }
      ]
    },
    {
      "cell_type": "markdown",
      "source": [
        "Reading Data"
      ],
      "metadata": {
        "id": "_MHLacPK8o36"
      }
    },
    {
      "cell_type": "code",
      "source": [
        "with open(\"/tmp/sarcasm.json\", 'r') as f:\n",
        "    data = json.load(f)\n",
        "\n",
        "sentences = []\n",
        "labels = []\n",
        "\n",
        "for item in data:\n",
        "    sentences.append(item['headline'])\n",
        "    labels.append(item['is_sarcastic'])"
      ],
      "metadata": {
        "id": "o3RJq1B_8UWI"
      },
      "execution_count": 14,
      "outputs": []
    },
    {
      "cell_type": "code",
      "source": [
        "#print(sentences)"
      ],
      "metadata": {
        "id": "F5V3f7ld8xl9"
      },
      "execution_count": 15,
      "outputs": []
    },
    {
      "cell_type": "code",
      "source": [
        "#print(labels)"
      ],
      "metadata": {
        "id": "222_mcAh80pC"
      },
      "execution_count": 16,
      "outputs": []
    },
    {
      "cell_type": "markdown",
      "source": [
        "Size of Data"
      ],
      "metadata": {
        "id": "e19nx_FS86Sw"
      }
    },
    {
      "cell_type": "code",
      "source": [
        "print(\"Size of Sentences: \", len(sentences))\n",
        "print(\"Size of Labels: \", len(labels))"
      ],
      "metadata": {
        "colab": {
          "base_uri": "https://localhost:8080/"
        },
        "id": "Mz6Y4Vom849A",
        "outputId": "ff163cf6-ca65-4b0e-97cc-ab81ca1e3050"
      },
      "execution_count": 17,
      "outputs": [
        {
          "output_type": "stream",
          "name": "stdout",
          "text": [
            "Size of Sentences:  26709\n",
            "Size of Labels:  26709\n"
          ]
        }
      ]
    },
    {
      "cell_type": "markdown",
      "source": [
        "Let's see some random sentences and their Labels"
      ],
      "metadata": {
        "id": "5Ze71ECt9vzv"
      }
    },
    {
      "cell_type": "code",
      "source": [
        "print (sentences[0])\n",
        "print (labels[0])\n",
        "print(\"\\n\" + \"-\" * 60 + \"\\n\")\n",
        "print (sentences[12563])\n",
        "print (labels[12563])\n",
        "print(\"\\n\" + \"-\" * 60 + \"\\n\")\n",
        "print (sentences[25000])\n",
        "print (labels[25000])"
      ],
      "metadata": {
        "colab": {
          "base_uri": "https://localhost:8080/"
        },
        "id": "uJNFBIry9IaZ",
        "outputId": "1b17467f-d698-470a-a1f7-3174ce138088"
      },
      "execution_count": 18,
      "outputs": [
        {
          "output_type": "stream",
          "name": "stdout",
          "text": [
            "former versace store clerk sues over secret 'black code' for minority shoppers\n",
            "0\n",
            "\n",
            "------------------------------------------------------------\n",
            "\n",
            "'syrians' lives are worthless,' obama tells daughters before kissing them goodnight\n",
            "1\n",
            "\n",
            "------------------------------------------------------------\n",
            "\n",
            "college graduate to never read a book again\n",
            "1\n"
          ]
        }
      ]
    },
    {
      "cell_type": "markdown",
      "source": [
        "### Train Test Split"
      ],
      "metadata": {
        "id": "6LP48AEv-S36"
      }
    },
    {
      "cell_type": "code",
      "source": [
        "training_sentences = sentences[0:training_size]\n",
        "testing_sentences = sentences[training_size:]\n",
        "training_labels = labels[0:training_size]\n",
        "testing_labels = labels[training_size:]"
      ],
      "metadata": {
        "id": "Yt2baM_n-JQs"
      },
      "execution_count": 19,
      "outputs": []
    },
    {
      "cell_type": "markdown",
      "source": [
        "### Tokenization, Padding"
      ],
      "metadata": {
        "id": "mwt9R5k5-hWo"
      }
    },
    {
      "cell_type": "code",
      "source": [
        "tokenizer = Tokenizer(num_words=vocab_size, oov_token=oov_tok)\n",
        "tokenizer.fit_on_texts(training_sentences)\n",
        "\n",
        "word_index = tokenizer.word_index\n",
        "\n",
        "training_sequences = tokenizer.texts_to_sequences(training_sentences)\n",
        "training_padded = pad_sequences(training_sequences, maxlen=max_length, padding=padding_type, truncating=trunc_type)\n",
        "\n",
        "testing_sequences = tokenizer.texts_to_sequences(testing_sentences)\n",
        "testing_padded = pad_sequences(testing_sequences, maxlen=max_length, padding=padding_type, truncating=trunc_type)"
      ],
      "metadata": {
        "id": "8l-5tSQM-bNU"
      },
      "execution_count": 20,
      "outputs": []
    },
    {
      "cell_type": "code",
      "source": [
        "print (training_padded[0])"
      ],
      "metadata": {
        "colab": {
          "base_uri": "https://localhost:8080/"
        },
        "id": "xC6Y9W32-ogr",
        "outputId": "1af72e7c-8716-4ae6-bd41-a81a5718182d"
      },
      "execution_count": 21,
      "outputs": [
        {
          "output_type": "stream",
          "name": "stdout",
          "text": [
            "[ 328    1  799 3405 2404   47  389 2214    1    6 2614 8863    0    0\n",
            "    0    0    0    0    0    0    0    0    0    0    0    0    0    0\n",
            "    0    0    0    0    0    0    0    0    0    0    0    0    0    0\n",
            "    0    0    0    0    0    0    0    0    0    0    0    0    0    0\n",
            "    0    0    0    0    0    0    0    0    0    0    0    0    0    0\n",
            "    0    0    0    0    0    0    0    0    0    0    0    0    0    0\n",
            "    0    0    0    0    0    0    0    0    0    0    0    0    0    0\n",
            "    0    0]\n"
          ]
        }
      ]
    },
    {
      "cell_type": "code",
      "source": [
        "training_padded.shape"
      ],
      "metadata": {
        "colab": {
          "base_uri": "https://localhost:8080/"
        },
        "id": "Q-5iJEHW-4n8",
        "outputId": "708f5e75-b7bb-46f6-801f-760adfe9a1d7"
      },
      "execution_count": 22,
      "outputs": [
        {
          "output_type": "execute_result",
          "data": {
            "text/plain": [
              "(20000, 100)"
            ]
          },
          "metadata": {},
          "execution_count": 22
        }
      ]
    },
    {
      "cell_type": "code",
      "source": [
        "testing_padded.shape"
      ],
      "metadata": {
        "colab": {
          "base_uri": "https://localhost:8080/"
        },
        "id": "7rTIlmOm_wU3",
        "outputId": "27bf6e9f-7f37-4e5c-e122-ed2aa6164817"
      },
      "execution_count": 23,
      "outputs": [
        {
          "output_type": "execute_result",
          "data": {
            "text/plain": [
              "(6709, 100)"
            ]
          },
          "metadata": {},
          "execution_count": 23
        }
      ]
    },
    {
      "cell_type": "markdown",
      "source": [
        "### Converting into Numpy arrays"
      ],
      "metadata": {
        "id": "7-uf7Eyy_3KL"
      }
    },
    {
      "cell_type": "code",
      "source": [
        "import numpy as np\n",
        "training_padded = np.array(training_padded)\n",
        "training_labels = np.array(training_labels)\n",
        "testing_padded = np.array(testing_padded)\n",
        "testing_labels = np.array(testing_labels)"
      ],
      "metadata": {
        "id": "QMxouxQZ_cUJ"
      },
      "execution_count": 24,
      "outputs": []
    },
    {
      "cell_type": "code",
      "source": [
        "print (training_padded)"
      ],
      "metadata": {
        "colab": {
          "base_uri": "https://localhost:8080/"
        },
        "id": "ZBdUGxei_7ll",
        "outputId": "2c84d896-65c0-4ef0-8b78-6a4976d22c18"
      },
      "execution_count": 25,
      "outputs": [
        {
          "output_type": "stream",
          "name": "stdout",
          "text": [
            "[[ 328    1  799 ...    0    0    0]\n",
            " [   4 6840 3096 ...    0    0    0]\n",
            " [ 153  890    2 ...    0    0    0]\n",
            " ...\n",
            " [  79 1729    1 ...    0    0    0]\n",
            " [  53 5108 4735 ...    0    0    0]\n",
            " [ 312  705    1 ...    0    0    0]]\n"
          ]
        }
      ]
    },
    {
      "cell_type": "code",
      "source": [
        "print (training_labels)"
      ],
      "metadata": {
        "colab": {
          "base_uri": "https://localhost:8080/"
        },
        "id": "DbzpieqS_90C",
        "outputId": "ba0f0800-ebd5-47d8-af04-a9cfe1c0f570"
      },
      "execution_count": 26,
      "outputs": [
        {
          "output_type": "stream",
          "name": "stdout",
          "text": [
            "[0 0 1 ... 0 0 1]\n"
          ]
        }
      ]
    },
    {
      "cell_type": "markdown",
      "source": [
        "### Custom Neural Network Architecture"
      ],
      "metadata": {
        "id": "KOvSA7QyAHfd"
      }
    },
    {
      "cell_type": "code",
      "source": [
        "model = tf.keras.Sequential([\n",
        "    tf.keras.layers.Embedding(vocab_size,embedding_dim,input_length = max_length),  #------> Step 1: Creating big matrix of embedding size\n",
        "    tf.keras.layers.GlobalAveragePooling1D(),                                       #------> step 2: converting this sparse big matrix into 1D layer\n",
        "    tf.keras.layers.Dense(24,activation='relu'),                                    #------->step 3: this 1D layer is deeply connected with neural net of 24 neurons, with \"RELU\" as activation\n",
        "    tf.keras.layers.Dense(1,activation='sigmoid')                                   #------->step 4: Final layer of neural net for classification, with \"Sigmoid\" as activation\n",
        "\n",
        "])\n",
        "\n",
        "model.compile(loss=\"binary_crossentropy\",optimizer=\"adam\",metrics=[\"accuracy\"])     # Model compilation --> Binary cross Entropy, Adam Optimizer, Accuracy"
      ],
      "metadata": {
        "id": "Bj_xCkTfAEOl"
      },
      "execution_count": 27,
      "outputs": []
    },
    {
      "cell_type": "markdown",
      "source": [
        "### Let's see our Model"
      ],
      "metadata": {
        "id": "iVcPk6HYDI5s"
      }
    },
    {
      "cell_type": "code",
      "source": [
        "model.summary()"
      ],
      "metadata": {
        "colab": {
          "base_uri": "https://localhost:8080/"
        },
        "id": "eGAPw04pC21s",
        "outputId": "e4fa4c15-1e22-43f1-a587-f73677528e90"
      },
      "execution_count": 28,
      "outputs": [
        {
          "output_type": "stream",
          "name": "stdout",
          "text": [
            "Model: \"sequential\"\n",
            "_________________________________________________________________\n",
            " Layer (type)                Output Shape              Param #   \n",
            "=================================================================\n",
            " embedding (Embedding)       (None, 100, 16)           160000    \n",
            "                                                                 \n",
            " global_average_pooling1d (  (None, 16)                0         \n",
            " GlobalAveragePooling1D)                                         \n",
            "                                                                 \n",
            " dense (Dense)               (None, 24)                408       \n",
            "                                                                 \n",
            " dense_1 (Dense)             (None, 1)                 25        \n",
            "                                                                 \n",
            "=================================================================\n",
            "Total params: 160433 (626.69 KB)\n",
            "Trainable params: 160433 (626.69 KB)\n",
            "Non-trainable params: 0 (0.00 Byte)\n",
            "_________________________________________________________________\n"
          ]
        }
      ]
    },
    {
      "cell_type": "markdown",
      "source": [
        "### Let's train our Model, with 25 Epochs"
      ],
      "metadata": {
        "id": "ndc0QmUCDSrg"
      }
    },
    {
      "cell_type": "code",
      "source": [
        "num_epochs = 25\n",
        "history = model.fit(training_padded,training_labels,epochs=num_epochs,validation_data=(testing_padded,testing_labels))"
      ],
      "metadata": {
        "colab": {
          "base_uri": "https://localhost:8080/"
        },
        "id": "To1ZslWpDNSj",
        "outputId": "15cae4be-7354-43d6-9b40-fe5e57ad2075"
      },
      "execution_count": 29,
      "outputs": [
        {
          "output_type": "stream",
          "name": "stdout",
          "text": [
            "Epoch 1/25\n",
            "625/625 [==============================] - 11s 13ms/step - loss: 0.6629 - accuracy: 0.5968 - val_loss: 0.5747 - val_accuracy: 0.7599\n",
            "Epoch 2/25\n",
            "625/625 [==============================] - 5s 8ms/step - loss: 0.4335 - accuracy: 0.8267 - val_loss: 0.3885 - val_accuracy: 0.8377\n",
            "Epoch 3/25\n",
            "625/625 [==============================] - 4s 7ms/step - loss: 0.3129 - accuracy: 0.8770 - val_loss: 0.3532 - val_accuracy: 0.8502\n",
            "Epoch 4/25\n",
            "625/625 [==============================] - 4s 6ms/step - loss: 0.2616 - accuracy: 0.8962 - val_loss: 0.3441 - val_accuracy: 0.8539\n",
            "Epoch 5/25\n",
            "625/625 [==============================] - 4s 6ms/step - loss: 0.2253 - accuracy: 0.9133 - val_loss: 0.3425 - val_accuracy: 0.8559\n",
            "Epoch 6/25\n",
            "625/625 [==============================] - 5s 8ms/step - loss: 0.1969 - accuracy: 0.9233 - val_loss: 0.3505 - val_accuracy: 0.8554\n",
            "Epoch 7/25\n",
            "625/625 [==============================] - 4s 6ms/step - loss: 0.1755 - accuracy: 0.9344 - val_loss: 0.3636 - val_accuracy: 0.8548\n",
            "Epoch 8/25\n",
            "625/625 [==============================] - 4s 6ms/step - loss: 0.1569 - accuracy: 0.9422 - val_loss: 0.3834 - val_accuracy: 0.8478\n",
            "Epoch 9/25\n",
            "625/625 [==============================] - 4s 7ms/step - loss: 0.1421 - accuracy: 0.9489 - val_loss: 0.3975 - val_accuracy: 0.8499\n",
            "Epoch 10/25\n",
            "625/625 [==============================] - 4s 6ms/step - loss: 0.1284 - accuracy: 0.9543 - val_loss: 0.4153 - val_accuracy: 0.8512\n",
            "Epoch 11/25\n",
            "625/625 [==============================] - 3s 6ms/step - loss: 0.1156 - accuracy: 0.9599 - val_loss: 0.4542 - val_accuracy: 0.8401\n",
            "Epoch 12/25\n",
            "625/625 [==============================] - 4s 6ms/step - loss: 0.1054 - accuracy: 0.9639 - val_loss: 0.4751 - val_accuracy: 0.8393\n",
            "Epoch 13/25\n",
            "625/625 [==============================] - 5s 8ms/step - loss: 0.0984 - accuracy: 0.9649 - val_loss: 0.5292 - val_accuracy: 0.8328\n",
            "Epoch 14/25\n",
            "625/625 [==============================] - 4s 6ms/step - loss: 0.0881 - accuracy: 0.9720 - val_loss: 0.5174 - val_accuracy: 0.8408\n",
            "Epoch 15/25\n",
            "625/625 [==============================] - 4s 6ms/step - loss: 0.0813 - accuracy: 0.9725 - val_loss: 0.5498 - val_accuracy: 0.8387\n",
            "Epoch 16/25\n",
            "625/625 [==============================] - 5s 8ms/step - loss: 0.0737 - accuracy: 0.9762 - val_loss: 0.5807 - val_accuracy: 0.8371\n",
            "Epoch 17/25\n",
            "625/625 [==============================] - 4s 6ms/step - loss: 0.0678 - accuracy: 0.9783 - val_loss: 0.6225 - val_accuracy: 0.8322\n",
            "Epoch 18/25\n",
            "625/625 [==============================] - 3s 5ms/step - loss: 0.0611 - accuracy: 0.9808 - val_loss: 0.6631 - val_accuracy: 0.8304\n",
            "Epoch 19/25\n",
            "625/625 [==============================] - 4s 6ms/step - loss: 0.0570 - accuracy: 0.9824 - val_loss: 0.6832 - val_accuracy: 0.8295\n",
            "Epoch 20/25\n",
            "625/625 [==============================] - 4s 7ms/step - loss: 0.0517 - accuracy: 0.9839 - val_loss: 0.7213 - val_accuracy: 0.8268\n",
            "Epoch 21/25\n",
            "625/625 [==============================] - 3s 5ms/step - loss: 0.0474 - accuracy: 0.9858 - val_loss: 0.8497 - val_accuracy: 0.8193\n",
            "Epoch 22/25\n",
            "625/625 [==============================] - 3s 5ms/step - loss: 0.0453 - accuracy: 0.9860 - val_loss: 0.7994 - val_accuracy: 0.8222\n",
            "Epoch 23/25\n",
            "625/625 [==============================] - 4s 7ms/step - loss: 0.0407 - accuracy: 0.9879 - val_loss: 0.8629 - val_accuracy: 0.8204\n",
            "Epoch 24/25\n",
            "625/625 [==============================] - 3s 6ms/step - loss: 0.0381 - accuracy: 0.9880 - val_loss: 0.9214 - val_accuracy: 0.8174\n",
            "Epoch 25/25\n",
            "625/625 [==============================] - 3s 5ms/step - loss: 0.0342 - accuracy: 0.9904 - val_loss: 0.9509 - val_accuracy: 0.8171\n"
          ]
        }
      ]
    },
    {
      "cell_type": "markdown",
      "source": [
        "### Let's Understand how accuracy & Loss varies w.r.t Epochs"
      ],
      "metadata": {
        "id": "Wj_mINSEESFC"
      }
    },
    {
      "cell_type": "code",
      "source": [
        "import matplotlib.pyplot as plt\n",
        "\n",
        "def plot_graphs(history,string):\n",
        "    plt.plot(history.history[string])\n",
        "    plt.plot(history.history['val_'+string])\n",
        "    plt.xlabel(\"Epochs\")\n",
        "    plt.ylabel(string)\n",
        "    plt.legend([string, 'val_'+string])\n",
        "    plt.show()\n",
        "\n",
        "\n",
        "plot_graphs(history,\"accuracy\")\n",
        "plot_graphs(history,\"loss\")"
      ],
      "metadata": {
        "colab": {
          "base_uri": "https://localhost:8080/",
          "height": 881
        },
        "id": "rfhKE7dTDzAC",
        "outputId": "305e6db9-6a81-48a7-be7f-3ac091a68993"
      },
      "execution_count": 30,
      "outputs": [
        {
          "output_type": "display_data",
          "data": {
            "text/plain": [
              "<Figure size 640x480 with 1 Axes>"
            ],
            "image/png": "[encoded data removed]"
          },
          "metadata": {}
        },
        {
          "output_type": "display_data",
          "data": {
            "text/plain": [
              "<Figure size 640x480 with 1 Axes>"
            ],
            "image/png": "[encoded data removed]"
          },
          "metadata": {}
        }
      ]
    },
    {
      "cell_type": "markdown",
      "source": [
        "### Test with custom data, and predict probabilities"
      ],
      "metadata": {
        "id": "yVihw1pqIIUR"
      }
    },
    {
      "cell_type": "code",
      "source": [
        "custom_data = [\"I am myself a king of my state\",\n",
        "            \"Unless your name is Google, stop acting like you know everything\",\n",
        "            \"It was amazing Experience\",\n",
        "            \"Data engineering is better then data science\",\n",
        "            \"poor man becomes Millionare\",\n",
        "            \"You are bald enough to have a haircut\"]\n",
        "custom_sequences = tokenizer.texts_to_sequences(custom_data)\n",
        "custom_padded = pad_sequences(custom_sequences, maxlen=max_length, padding=padding_type, truncating=trunc_type)\n",
        "print(model.predict(custom_padded))"
      ],
      "metadata": {
        "colab": {
          "base_uri": "https://localhost:8080/"
        },
        "id": "mpAiQ7QCH2II",
        "outputId": "9b087c93-f406-4315-93d1-4d74d66bf370"
      },
      "execution_count": 32,
      "outputs": [
        {
          "output_type": "stream",
          "name": "stdout",
          "text": [
            "1/1 [==============================] - 0s 22ms/step\n",
            "[[2.7781029e-08]\n",
            " [1.9229715e-03]\n",
            " [5.7763099e-03]\n",
            " [1.8526948e-09]\n",
            " [9.9879050e-01]\n",
            " [5.9463811e-01]]\n"
          ]
        }
      ]
    },
    {
      "cell_type": "markdown",
      "source": [
        "### 5th  sentence is predicted with high probability, means they are sarcastic with higher probabilities when compared to other sentences"
      ],
      "metadata": {
        "id": "f5hYjqYFIxTZ"
      }
    },
    {
      "cell_type": "code",
      "source": [],
      "metadata": {
        "id": "5zlFKLfkIggL"
      },
      "execution_count": 31,
      "outputs": []
    }
  ]
}